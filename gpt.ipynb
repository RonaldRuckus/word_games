{
 "cells": [
  {
   "cell_type": "code",
   "execution_count": 55,
   "metadata": {},
   "outputs": [],
   "source": [
    "import requests\n",
    "from openai import OpenAI\n",
    "from dotenv import load_dotenv\n",
    "load_dotenv()\n",
    "import json\n",
    "\n",
    "client = OpenAI()\n",
    "s = requests.Session()\n",
    "\n",
    "GROUP_THEM_URL = \"http://127.0.0.1:8080/groupthem\""
   ]
  },
  {
   "cell_type": "markdown",
   "metadata": {},
   "source": [
    "### WordGuess"
   ]
  },
  {
   "cell_type": "code",
   "execution_count": 9,
   "metadata": {},
   "outputs": [
    {
     "data": {
      "text/plain": [
       "{'guesses': [], 'maximum_guesses': 6}"
      ]
     },
     "execution_count": 9,
     "metadata": {},
     "output_type": "execute_result"
    }
   ],
   "source": [
    "todo"
   ]
  },
  {
   "cell_type": "markdown",
   "metadata": {},
   "source": [
    "### GroupThem"
   ]
  },
  {
   "cell_type": "code",
   "execution_count": 2,
   "metadata": {},
   "outputs": [
    {
     "name": "stdout",
     "output_type": "stream",
     "text": [
      "{'guesses': [], 'available_words': ['echo', 'backbone', 'parrot', 'ham', 'cannonball', 'quote', 'pillar', 'bellyflop', 'talk', 'cornerstone', 'backflip', 'pirate', 'satellite', 'repeat', 'anchor', 'jackknife']}\n",
      "{'$schema': 'http://json-schema.org/draft-07/schema#', 'title': 'GroupThemRequest', 'type': 'object', 'required': ['guess'], 'properties': {'guess': {'type': 'array', 'items': {'type': 'string'}}}}\n"
     ]
    }
   ],
   "source": [
    "state = s.get(GROUP_THEM_URL).json()\n",
    "print(state)\n",
    "schema = s.get(GROUP_THEM_URL + \"/schema\").json()\n",
    "print(schema)"
   ]
  },
  {
   "cell_type": "code",
   "execution_count": null,
   "metadata": {},
   "outputs": [],
   "source": [
    "models = [\"gpt-4o\", \"gpt-4o-2024-08-06\", \"gpt-4o-mini\", \"gpt-3.5-turbo\"]"
   ]
  },
  {
   "cell_type": "code",
   "execution_count": 54,
   "metadata": {},
   "outputs": [
    {
     "name": "stdout",
     "output_type": "stream",
     "text": [
      "\n",
      ">Guess: ['pirate', 'cannonball', 'anchor', 'parrot']\n",
      "Reasoning: All the items can be related to actions or objects that are commonly associated with a pirate theme.\n",
      "Win: False\n",
      "\n",
      "\n",
      ">Guess: ['pirate', 'cannonball', 'anchor', 'backbone']\n",
      "Reasoning: All these items are related to different physical actions or objects that could be found on a pirate ship.\n",
      "Win: False\n",
      "\n",
      "{\n",
      "\t\"reasoning\": \"All items represent actions or objects related to a specific theme: \"water activities\".\",\n",
      "\t\"connections\": [\"bellyflop\", \"cannonball\", \"backflip\", \"jackknife\"]\n",
      "}\n",
      "Expecting ',' delimiter: line 2 column 85 (char 86)\n",
      "\n",
      ">Guess: ['pirate', 'cannonball', 'anchor', 'backbone']\n",
      "Reasoning: All these items are related to different physical actions or objects that could be found on a pirate ship.\n",
      "Guess already made\n",
      "\n",
      ">Guess: ['cannonball', 'anchor', 'pirate', 'anchor']\n",
      "Reasoning: All these items are related to actions or objects found in water or naval settings.\n",
      "You have to guess 4 words\n"
     ]
    }
   ],
   "source": [
    "schema = '{\"reasoning\": String, \"connections\": [String; 4]}'\n",
    "\n",
    "for model in models:\n",
    "\n",
    "    conversation = [\n",
    "        {\"role\": \"system\", \"content\": \"You are a helpful assistant. Create a json object with the connection groups & your reasoning. ### Schema\\n\" + schema },\n",
    "        {\"role\": \"user\", \"content\": \"Create the mentioned JSON object through trying to find a connection between exactly 4 of these items: \" + \", \".join(state[\"available_words\"]) + \".\"},\n",
    "    ]\n",
    "\n",
    "    print(f\"# Model: {model}\")\n",
    "    \n",
    "    for i in range(10):\n",
    "        # Ask model to attempt connection\n",
    "        response = client.chat.completions.create(\n",
    "            model=model,\n",
    "            messages=conversation\n",
    "        ).choices[0].message.content\n",
    "        \n",
    "        start = response.find(\"{\")\n",
    "        end = response.find(\"}\", start)\n",
    "        \n",
    "        try:\n",
    "            json_response = json.loads(response[start:end+1])\n",
    "        except Exception as e:\n",
    "            print(response)\n",
    "            print(e)\n",
    "            conversation.append({\"role\": \"user\", \"content\": \"Invalid JSON object. Please try again following the schema: \" + schema})\n",
    "            \n",
    "        print(f\"\\n>Guess: {json_response['connections']}\\nReasoning: {json_response['reasoning']}\")\n",
    "        # Send connections\n",
    "        payload = {\"guess\": json_response[\"connections\"]}\n",
    "        \n",
    "        try:\n",
    "            response = s.post(GROUP_THEM_URL, json=payload)\n",
    "            if response.status_code != 200:\n",
    "                \n",
    "                if \"guess already made\" in response.text.lower():\n",
    "                    conversation.append({\"role\": \"user\", \"content\": \"WARNING: This guess was already made\"})\n",
    "                    print(\"Guess already made\")\n",
    "                    continue\n",
    "                \n",
    "                if \"not a valid word\" in response.text.lower():\n",
    "                    conversation.append({\"role\": \"user\", \"content\": f\"WARNING: {response.text}\"})\n",
    "                    print(\"Invalid word\")\n",
    "                    continue\n",
    "                \n",
    "                print(f\"\\n### response.text\")\n",
    "                break\n",
    "            available_words = response.json()[\"available_words\"]\n",
    "        except Exception as e:\n",
    "            print(e)\n",
    "            break\n",
    "        \n",
    "        win = json_response[\"connections\"][0] not in available_words\n",
    "        print(f\"Win: {win}\\n\")\n",
    "        if len(available_words) == 0:\n",
    "            print(f\"### You won in {i+1} guesses!\")\n",
    "            break\n",
    "        else:\n",
    "            \n",
    "            if win:\n",
    "                conversation = [\n",
    "                    {\"role\": \"system\", \"content\": \"You are a helpful assistant. Create a json object with the connection groups & your reasoning. ### Schema\\n\" + schema },\n",
    "                    {\"role\": \"user\", \"content\": \"Create the mentioned JSON object through trying to find a connection between exactly 4 of these items: \" + \", \".join(available_words) + \".\"},\n",
    "                ]\n",
    "            else:\n",
    "                conversation.append({\"role\": \"user\", \"content\": f\"You were INCORRECT. Try again with different options.\"})\n",
    "    print(\"\\n---\\n\")\n",
    "            "
   ]
  }
 ],
 "metadata": {
  "kernelspec": {
   "display_name": "eval",
   "language": "python",
   "name": "python3"
  },
  "language_info": {
   "codemirror_mode": {
    "name": "ipython",
    "version": 3
   },
   "file_extension": ".py",
   "mimetype": "text/x-python",
   "name": "python",
   "nbconvert_exporter": "python",
   "pygments_lexer": "ipython3",
   "version": "3.10.12"
  }
 },
 "nbformat": 4,
 "nbformat_minor": 2
}
