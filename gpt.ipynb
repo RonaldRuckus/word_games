{
 "cells": [
  {
   "cell_type": "code",
   "execution_count": 1,
   "metadata": {},
   "outputs": [],
   "source": [
    "import requests\n",
    "from openai import OpenAI\n",
    "from dotenv import load_dotenv\n",
    "load_dotenv()\n",
    "import json\n",
    "\n",
    "client = OpenAI()\n",
    "s = requests.Session()\n",
    "\n",
    "GROUP_THEM_URL = \"http://127.0.0.1:8080/groupthem\""
   ]
  },
  {
   "cell_type": "markdown",
   "metadata": {},
   "source": [
    "### WordGuess"
   ]
  },
  {
   "cell_type": "code",
   "execution_count": 9,
   "metadata": {},
   "outputs": [
    {
     "data": {
      "text/plain": [
       "{'guesses': [], 'maximum_guesses': 6}"
      ]
     },
     "execution_count": 9,
     "metadata": {},
     "output_type": "execute_result"
    }
   ],
   "source": [
    "todo"
   ]
  },
  {
   "cell_type": "markdown",
   "metadata": {},
   "source": [
    "### GroupThem"
   ]
  },
  {
   "cell_type": "code",
   "execution_count": 2,
   "metadata": {},
   "outputs": [
    {
     "name": "stdout",
     "output_type": "stream",
     "text": [
      "{'guesses': [], 'available_words': ['cake', 'pie', 'pudding', 'cookie', 'pen', 'notebook', 'stapler', 'envelope', 'holmes', 'poirot', 'marple', 'spade', 'centaur', 'mermaid', 'minotaur', 'sphinx']}\n",
      "{'$schema': 'http://json-schema.org/draft-07/schema#', 'title': 'GroupThemRequest', 'type': 'object', 'required': ['guess'], 'properties': {'guess': {'type': 'array', 'items': {'type': 'string'}}}}\n"
     ]
    }
   ],
   "source": [
    "state = s.get(GROUP_THEM_URL).json()\n",
    "print(state)\n",
    "schema = s.get(GROUP_THEM_URL + \"/schema\").json()\n",
    "print(schema)"
   ]
  },
  {
   "cell_type": "code",
   "execution_count": 60,
   "metadata": {},
   "outputs": [
    {
     "name": "stdout",
     "output_type": "stream",
     "text": [
      "{'reasoning': 'The connection between the selected items is that they are all mythical creatures often found in folklore and mythology.', 'connections': ['centaur', 'mermaid', 'minotaur', 'sphinx']}\n",
      "{'reasoning': \"The connection group identified consists of 'holmes', 'poirot', 'marple', and 'spade'. These items are all renowned fictional detectives, characters in mystery novels and stories.\", 'connections': ['holmes', 'poirot', 'marple', 'spade']}\n",
      "{'reasoning': 'The connection between the selected items is that they are all office supplies.', 'connections': ['pen', 'notebook', 'stapler', 'envelope']}\n",
      "{'reasoning': 'These four items are all types of desserts or sweet treats.', 'connections': ['cake', 'pie', 'pudding', 'cookie']}\n",
      "You won!\n"
     ]
    }
   ],
   "source": [
    "schema = \"{reasoning: String, connections: [String; 4]}\"\n",
    "\n",
    "conversation = [\n",
    "    {\"role\": \"system\", \"content\": \"You are a helpful assistant. Create a json object with the connection groups & your reasoning. ### Schema\\n\" + schema },\n",
    "    {\"role\": \"user\", \"content\": \"Create the mentioned JSON object through trying to find a connection between exactly 4 of these items: \" + \", \".join(state[\"available_words\"]) + \".\"},\n",
    "]\n",
    "\n",
    "for _ in range(10):\n",
    "    # Ask model to attempt connection\n",
    "    response = client.chat.completions.create(\n",
    "        model=\"gpt-4o\",\n",
    "        messages=conversation\n",
    "    ).choices[0].message.content\n",
    "    \n",
    "    start = response.find(\"{\")\n",
    "    end = response.find(\"}\", start)\n",
    "    json_response = json.loads(response[start:end+1])\n",
    "    print(json_response)\n",
    "    # Send connections\n",
    "    payload = {\"guess\": json_response[\"connections\"]}\n",
    "    \n",
    "    try:\n",
    "        available_words = s.post(GROUP_THEM_URL, json=payload).json()[\"available_words\"]\n",
    "    except Exception as e:\n",
    "        print(e)\n",
    "        break\n",
    "    \n",
    "    win = json_response[\"connections\"][0] not in available_words\n",
    "    if len(available_words) == 0:\n",
    "        print(\"You won!\")\n",
    "        break\n",
    "    else:\n",
    "        conversation.append({\"role\": \"user\", \"content\": f\"You were {'CORRECT!!' if win else 'INCORRECT'}. \\n\\n### Current List: \" + \", \".join(available_words) + \".\"})\n",
    "        "
   ]
  }
 ],
 "metadata": {
  "kernelspec": {
   "display_name": "eval",
   "language": "python",
   "name": "python3"
  },
  "language_info": {
   "codemirror_mode": {
    "name": "ipython",
    "version": 3
   },
   "file_extension": ".py",
   "mimetype": "text/x-python",
   "name": "python",
   "nbconvert_exporter": "python",
   "pygments_lexer": "ipython3",
   "version": "3.10.12"
  }
 },
 "nbformat": 4,
 "nbformat_minor": 2
}
